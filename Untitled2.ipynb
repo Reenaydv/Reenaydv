{
  "nbformat": 4,
  "nbformat_minor": 0,
  "metadata": {
    "colab": {
      "provenance": [],
      "authorship_tag": "ABX9TyNu4wzLBsIJNFFczWMmvb+5",
      "include_colab_link": true
    },
    "kernelspec": {
      "name": "ir",
      "display_name": "R"
    },
    "language_info": {
      "name": "R"
    }
  },
  "cells": [
    {
      "cell_type": "markdown",
      "metadata": {
        "id": "view-in-github",
        "colab_type": "text"
      },
      "source": [
        "<a href=\"https://colab.research.google.com/github/Reenaydv/Reenaydv/blob/main/Untitled2.ipynb\" target=\"_parent\"><img src=\"https://colab.research.google.com/assets/colab-badge.svg\" alt=\"Open In Colab\"/></a>"
      ]
    },
    {
      "cell_type": "code",
      "execution_count": null,
      "metadata": {
        "id": "ipBbKMT0DxaY"
      },
      "outputs": [],
      "source": [
        "from google.colab import drive\n",
        "drive.mount('/content/drive')\n",
        "!mkdir /content/drive/MyDrive/sd-webui-files\n",
        "\n"
      ]
    },
    {
      "cell_type": "code",
      "source": [
        "!pip install torch==1.13.1+cu116 torchvision==0.14.1+cu116 torchaudio==0.13.1 --extra-index-url https://download.pytorch.org/whl/cu116 -U\n",
        "!pip install -q xformers==0.0.16\n",
        "!pip install -q triton==2.0.0\n"
      ],
      "metadata": {
        "id": "v2oAtyt6D4M-"
      },
      "execution_count": null,
      "outputs": []
    },
    {
      "cell_type": "code",
      "source": [
        "  %cd /content/drive/MyDrive/sd-webui-files/stable-diffusion-webui/\n",
        "  !git reset --hard\n",
        "  !git pull\n",
        "  !sed -i -e 's/checkout {commithash}/checkout --force {commithash}/g' launch.py\n",
        "\n"
      ],
      "metadata": {
        "id": "dsRIVPxKFgTP"
      },
      "execution_count": null,
      "outputs": []
    },
    {
      "cell_type": "code",
      "source": [
        "!python launch.py --share --xformers --enable-insecure-extension-access --theme light"
      ],
      "metadata": {
        "id": "fxFqmoVlF8af"
      },
      "execution_count": null,
      "outputs": []
    },
    {
      "cell_type": "code",
      "source": [],
      "metadata": {
        "id": "Dw7ox74LIa2O"
      },
      "execution_count": null,
      "outputs": []
    }
  ]
}